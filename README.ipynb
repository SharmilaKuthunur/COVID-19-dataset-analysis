{
 "cells": [
  {
   "cell_type": "markdown",
   "metadata": {},
   "source": [
    "# Project Title"
   ]
  },
  {
   "cell_type": "markdown",
   "metadata": {},
   "source": [
    "### Analysis of COVID-19 Dataset"
   ]
  },
  {
   "cell_type": "markdown",
   "metadata": {},
   "source": [
    "# Getting started"
   ]
  },
  {
   "cell_type": "markdown",
   "metadata": {},
   "source": [
    "\n",
    "\n",
    "    1. Preprocessing: Contains the processes executed to clean and filter the data. \n",
    "    2. Univariate Analysis: Contains analysis of numerical and categorical variables. \n",
    "    3. Bivariate Analysis: Contains analysis of combination of two variables."
   ]
  },
  {
   "cell_type": "markdown",
   "metadata": {},
   "source": [
    "# Deployment"
   ]
  },
  {
   "cell_type": "markdown",
   "metadata": {},
   "source": [
    "## Preprocessing: \n",
    "\n",
    "The input data is a csv file downloaded from John Hopkins University site. This dataset is taken as an input during preprocessing. After the data is preprocessed, the new dataset is downloaded as a CSV file for further analysis. This preprocessed dataset can be downloaded onto the local system by running the code in Preprocessing notebook, and is also attached with the submission material. \n",
    "\n",
    "While running the code, the location for the input data can be replaced by the address of the file on the local system. The following code needs to be changed: \n",
    "\n",
    "preprocessing_dataset = pd.read_csv(\"C:\\\\Users\\\\Sharmila\\\\Desktop\\\\covid.csv\")\n",
    "\n",
    "## Univariate and Bivariate Analysis: \n",
    "\n",
    "The input data are preprocessed csv files from Step 1. The modules for other graphs are maps are imported in the notebook itself and can be run on all local systems. The output is displayed right below the code itself."
   ]
  },
  {
   "cell_type": "markdown",
   "metadata": {},
   "source": [
    "# Built with"
   ]
  },
  {
   "cell_type": "markdown",
   "metadata": {},
   "source": [
    "All the coding for this project has been done in Python 3.7.4.\n",
    "\n",
    "    Jupyter Notebook: Coding and explanation of written code. \n",
    "    Plotly: Execution of line graphs, scatter plots, and world map. "
   ]
  },
  {
   "cell_type": "markdown",
   "metadata": {},
   "source": [
    "# Authors"
   ]
  },
  {
   "cell_type": "markdown",
   "metadata": {},
   "source": [
    "    Name: Sharmila Kuthunur Gopala Krishna Rao\n",
    "    NUID: 001373718"
   ]
  },
  {
   "cell_type": "code",
   "execution_count": null,
   "metadata": {},
   "outputs": [],
   "source": []
  }
 ],
 "metadata": {
  "kernelspec": {
   "display_name": "Python 3",
   "language": "python",
   "name": "python3"
  },
  "language_info": {
   "codemirror_mode": {
    "name": "ipython",
    "version": 3
   },
   "file_extension": ".py",
   "mimetype": "text/x-python",
   "name": "python",
   "nbconvert_exporter": "python",
   "pygments_lexer": "ipython3",
   "version": "3.7.5"
  }
 },
 "nbformat": 4,
 "nbformat_minor": 2
}
